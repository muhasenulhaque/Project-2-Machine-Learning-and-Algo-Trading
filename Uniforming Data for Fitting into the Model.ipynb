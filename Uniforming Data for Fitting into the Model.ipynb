{
 "cells": [
  {
   "cell_type": "code",
   "execution_count": null,
   "id": "2491e37a-7e8f-4b86-8d56-7e2bc7a9596f",
   "metadata": {},
   "outputs": [],
   "source": [
    "import pandas as pd\n",
    "from pathlib import Path\n",
    "from datetime import datetime\n"
   ]
  },
  {
   "cell_type": "code",
   "execution_count": null,
   "id": "e820ae05-d82c-4761-b8bd-8e4365d09ea5",
   "metadata": {
    "tags": []
   },
   "outputs": [],
   "source": [
    "# Reading USA inflation rate from USA_Inflation_Rate.csv\n",
    "df_us_inflation = pd.read_csv(\"./USA/USA_Inflation_Rate.csv\",\n",
    "                             index_col = \"Date\",\n",
    "                              infer_datetime_format=True,\n",
    "                             parse_dates=True)                   \n",
    "df_us_inflation"
   ]
  },
  {
   "cell_type": "code",
   "execution_count": null,
   "id": "b9231a47-e0f1-482c-8b04-f9879635d74c",
   "metadata": {
    "tags": []
   },
   "outputs": [],
   "source": [
    "#resampling the data with daily with .ffill function  \n",
    "df_us_inflation_daily=df_us_inflation.resample('D').ffill()\n",
    "df_us_inflation_daily"
   ]
  },
  {
   "cell_type": "code",
   "execution_count": null,
   "id": "eea59eca-c284-4722-bc28-2fc576e44ec3",
   "metadata": {
    "tags": []
   },
   "outputs": [],
   "source": [
    "# selected data range from 2012-12-01  to 2022-11-30\n",
    "df_us_inflation_daily = df_us_inflation_daily.loc[\"2012-12-01\":\"2022-11-30\"]\n",
    "df_us_inflation_daily"
   ]
  },
  {
   "cell_type": "code",
   "execution_count": null,
   "id": "216b625f-d61f-4d9a-8a5c-0c4daa14bb71",
   "metadata": {},
   "outputs": [],
   "source": [
    "## Reading USA inflation rate from fed-funds-rate-historical-chart.csv\n",
    "\n",
    "df_us_fed_rate = pd.read_csv(\"./USA/fed-funds-rate-historical-chart.csv\", \n",
    "                             index_col = \"date\",\n",
    "                             infer_datetime_format=True,\n",
    "                             parse_dates=True)"
   ]
  },
  {
   "cell_type": "code",
   "execution_count": null,
   "id": "bf2fcf3c-c21e-4620-b81b-926aa6d67e0e",
   "metadata": {
    "tags": []
   },
   "outputs": [],
   "source": [
    "#resampling the data with daily with .ffill function  \n",
    "df_us_fed_rate_daily=df_us_fed_rate.resample('D').ffill()\n",
    "df_us_fed_rate_daily"
   ]
  },
  {
   "cell_type": "code",
   "execution_count": null,
   "id": "ba53d53a-d825-4cbb-9643-07d9cbfc9cda",
   "metadata": {
    "tags": []
   },
   "outputs": [],
   "source": [
    "# selected data range from 2012-12-01  to 2022-11-30\n",
    "df_us_fed_rate_daily = df_us_fed_rate_daily.loc[\"2012-12-1\":\"2022-11-30\"]\n",
    "df_us_fed_rate_daily"
   ]
  },
  {
   "cell_type": "code",
   "execution_count": null,
   "id": "55b3308e-586b-4354-92f7-9f5bc48acbf6",
   "metadata": {},
   "outputs": [],
   "source": [
    "# Reading USA inflation rate from AU_Inflation.csv file\n",
    "df_au_inflation_rate = pd.read_csv(\"./AUS/AU_Inflation.csv\",\n",
    "                            index_col = \"Date\",\n",
    "                             infer_datetime_format=True,\n",
    "                             parse_dates=True)\n",
    "df_au_inflation_rate"
   ]
  },
  {
   "cell_type": "code",
   "execution_count": null,
   "id": "157ea0a0-9a84-4b03-9b2a-8a6f7ab35a73",
   "metadata": {},
   "outputs": [],
   "source": [
    "#resampling the data with daily with .ffill function  \n",
    "df_au_inflation_rate_daily=df_au_inflation_rate.resample('D').ffill()\n",
    "df_au_inflation_rate_daily"
   ]
  },
  {
   "cell_type": "code",
   "execution_count": null,
   "id": "0604cfde-f0b7-4a40-8202-e01b8e704718",
   "metadata": {},
   "outputs": [],
   "source": [
    "df_au_inflation_rate_daily = df_au_inflation_rate_daily.loc[\"2012-12-1\":\"2022-11-30\"]\n",
    "df_au_inflation_rate_daily"
   ]
  },
  {
   "cell_type": "code",
   "execution_count": null,
   "id": "9df2da03-0aff-43d5-b8bd-b32d35eba999",
   "metadata": {},
   "outputs": [],
   "source": [
    "# selected data range from 2012-12-01  to 2022-11-30\n",
    "df_au_cash_rate = pd.read_csv(\"./AUS/AU_Cashrate.csv\",\n",
    "                              index_col =\"Date\",\n",
    "                              infer_datetime_format=True, \n",
    "                              parse_dates = True)\n",
    "df_au_cash_rate"
   ]
  },
  {
   "cell_type": "code",
   "execution_count": null,
   "id": "73b8c1be-cd6b-4f23-bb5d-11eeb5dbff5f",
   "metadata": {},
   "outputs": [],
   "source": [
    "#resampling the data with daily with .ffill function  \n",
    "df_au_cash_rate_daily=df_au_cash_rate.resample('D').ffill()"
   ]
  },
  {
   "cell_type": "code",
   "execution_count": null,
   "id": "d77452d6-327d-4356-9b68-5c784ca15e18",
   "metadata": {},
   "outputs": [],
   "source": [
    "# selected data range from 2012-12-01 to 2022-11-30\n",
    "df_au_cash_rate_daily = df_au_cash_rate_daily.loc[\"2012-12-1\":\"2022-11-30\"]\n",
    "df_au_cash_rate_daily"
   ]
  }
 ],
 "metadata": {
  "kernelspec": {
   "display_name": "Python 3 (ipykernel)",
   "language": "python",
   "name": "python3"
  },
  "language_info": {
   "codemirror_mode": {
    "name": "ipython",
    "version": 3
   },
   "file_extension": ".py",
   "mimetype": "text/x-python",
   "name": "python",
   "nbconvert_exporter": "python",
   "pygments_lexer": "ipython3",
   "version": "3.7.13"
  }
 },
 "nbformat": 4,
 "nbformat_minor": 5
}
